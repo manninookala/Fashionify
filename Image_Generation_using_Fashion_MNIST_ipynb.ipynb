{
  "nbformat": 4,
  "nbformat_minor": 0,
  "metadata": {
    "colab": {
      "provenance": []
    },
    "kernelspec": {
      "name": "python3",
      "display_name": "Python 3"
    },
    "language_info": {
      "name": "python"
    }
  },
  "cells": [
    {
      "cell_type": "code",
      "source": [
        "import torch\n",
        "import torch.nn as nn\n",
        "import torch.optim as optim\n",
        "from torchvision import datasets, transforms\n",
        "from torch.utils.data import DataLoader\n",
        "import torchvision\n",
        "\n",
        "# Define device\n",
        "device = torch.device(\"cuda\" if torch.cuda.is_available() else \"cpu\")"
      ],
      "metadata": {
        "id": "5I7R1cUvZjG3"
      },
      "execution_count": null,
      "outputs": []
    },
    {
      "cell_type": "code",
      "source": [
        "# Hyperparameters\n",
        "batch_size = 64\n",
        "lr = 0.0002\n",
        "latent_dim = 100\n",
        "image_dim = 28 * 28  # FashionMNIST images are grayscale and 28x28\n",
        "epochs = 30\n",
        "\n",
        "# Transformation to normalize the images\n",
        "transform = transforms.Compose([\n",
        "    transforms.ToTensor(),\n",
        "    transforms.Normalize((0.5,), (0.5,))  # Normalize to [-1, 1]\n",
        "])\n",
        "\n",
        "# Load FashionMNIST dataset\n",
        "fashion_mnist_dataset = datasets.FashionMNIST(root='./data', train=True, transform=transform, download=True)\n",
        "data_loader = DataLoader(fashion_mnist_dataset, batch_size=batch_size, shuffle=True)"
      ],
      "metadata": {
        "id": "R81kW5UUZjDs"
      },
      "execution_count": null,
      "outputs": []
    },
    {
      "cell_type": "code",
      "source": [
        "# Generator Network\n",
        "class Generator(nn.Module):\n",
        "    def __init__(self, latent_dim, output_dim):\n",
        "        super(Generator, self).__init__()\n",
        "        self.main = nn.Sequential(\n",
        "            nn.Linear(latent_dim, 128),\n",
        "            nn.ReLU(),\n",
        "            nn.Linear(128, 256),\n",
        "            nn.ReLU(),\n",
        "            nn.Linear(256, 512),\n",
        "            nn.ReLU(),\n",
        "            nn.Linear(512, output_dim),\n",
        "            nn.Tanh()  # Output range between -1 and 1 for images\n",
        "        )\n",
        "\n",
        "    def forward(self, x):\n",
        "        return self.main(x)"
      ],
      "metadata": {
        "id": "6CM-BzlmZjAZ"
      },
      "execution_count": null,
      "outputs": []
    },
    {
      "cell_type": "code",
      "source": [
        "# Discriminator Network\n",
        "class Discriminator(nn.Module):\n",
        "    def __init__(self, input_dim):\n",
        "        super(Discriminator, self).__init__()\n",
        "        self.main = nn.Sequential(\n",
        "            nn.Linear(input_dim, 512),\n",
        "            nn.ReLU(),\n",
        "            nn.Linear(512, 256),\n",
        "            nn.ReLU(),\n",
        "            nn.Linear(256, 1),\n",
        "            nn.Sigmoid()  # Output probability of being real\n",
        "        )\n",
        "\n",
        "    def forward(self, x):\n",
        "        return self.main(x)"
      ],
      "metadata": {
        "id": "2WPMDrIvZi33"
      },
      "execution_count": null,
      "outputs": []
    },
    {
      "cell_type": "code",
      "source": [
        "# Initialize Generator, Discriminator, and Optimizers\n",
        "generator = Generator(latent_dim, image_dim)\n",
        "discriminator = Discriminator(image_dim)\n",
        "optimizer_G = optim.Adam(generator.parameters(), lr=lr)\n",
        "optimizer_D = optim.Adam(discriminator.parameters(), lr=lr)\n",
        "\n",
        "# Loss function\n",
        "criterion = nn.BCELoss()"
      ],
      "metadata": {
        "id": "OAG3zmLTZivX"
      },
      "execution_count": null,
      "outputs": []
    },
    {
      "cell_type": "code",
      "source": [
        "# Training Loop\n",
        "for epoch in range(epochs):\n",
        "    for i, real_images in enumerate(data_loader):\n",
        "        real_images = real_images[0].view(-1, image_dim)\n",
        "        batch_size = real_images.size(0)\n",
        "\n",
        "        # Train Discriminator\n",
        "        optimizer_D.zero_grad()\n",
        "\n",
        "        # Real images\n",
        "        real_labels = torch.ones(batch_size, 1)\n",
        "        output_real = discriminator(real_images)\n",
        "        loss_D_real = criterion(output_real, real_labels)\n",
        "\n",
        "        # Fake images\n",
        "        noise = torch.randn(batch_size, latent_dim)\n",
        "        fake_images = generator(noise)\n",
        "        fake_labels = torch.zeros(batch_size, 1)\n",
        "        output_fake = discriminator(fake_images.detach())\n",
        "        loss_D_fake = criterion(output_fake, fake_labels)\n",
        "\n",
        "        # Total Discriminator loss\n",
        "        loss_D = loss_D_real + loss_D_fake\n",
        "        loss_D.backward()\n",
        "        optimizer_D.step()\n",
        "\n",
        "        # Train Generator\n",
        "        optimizer_G.zero_grad()\n",
        "\n",
        "        # Generator tries to fool the discriminator\n",
        "        output = discriminator(fake_images)\n",
        "        loss_G = criterion(output, real_labels)\n",
        "        loss_G.backward()\n",
        "        optimizer_G.step()\n",
        "\n",
        "    # Print progress\n",
        "    print(f\"Epoch [{epoch+1}/{epochs}], Loss_D: {loss_D.item()}, Loss_G: {loss_G.item()}\")"
      ],
      "metadata": {
        "colab": {
          "base_uri": "https://localhost:8080/"
        },
        "id": "GybxjjK8ZiqE",
        "outputId": "0c5a2149-cd3e-4efa-d844-031ced8e2c04"
      },
      "execution_count": null,
      "outputs": [
        {
          "output_type": "stream",
          "name": "stdout",
          "text": [
            "Epoch [1/30], Loss_D: 0.09703639894723892, Loss_G: 4.990449905395508\n",
            "Epoch [2/30], Loss_D: 0.06381651759147644, Loss_G: 5.0817975997924805\n",
            "Epoch [3/30], Loss_D: 0.11311623454093933, Loss_G: 5.796576499938965\n",
            "Epoch [4/30], Loss_D: 0.26800256967544556, Loss_G: 6.250283241271973\n",
            "Epoch [5/30], Loss_D: 0.2293691784143448, Loss_G: 4.963088035583496\n",
            "Epoch [6/30], Loss_D: 0.30317598581314087, Loss_G: 3.0917680263519287\n",
            "Epoch [7/30], Loss_D: 0.33871692419052124, Loss_G: 4.716243267059326\n",
            "Epoch [8/30], Loss_D: 0.23418036103248596, Loss_G: 3.099081039428711\n",
            "Epoch [9/30], Loss_D: 0.3262079954147339, Loss_G: 5.085091590881348\n",
            "Epoch [10/30], Loss_D: 0.2643115222454071, Loss_G: 3.212904930114746\n",
            "Epoch [11/30], Loss_D: 0.5340366363525391, Loss_G: 2.5896499156951904\n",
            "Epoch [12/30], Loss_D: 0.5107372999191284, Loss_G: 2.7411954402923584\n",
            "Epoch [13/30], Loss_D: 0.8230450749397278, Loss_G: 2.8979969024658203\n",
            "Epoch [14/30], Loss_D: 0.5371294021606445, Loss_G: 3.276658296585083\n",
            "Epoch [15/30], Loss_D: 0.539919912815094, Loss_G: 2.427252769470215\n",
            "Epoch [16/30], Loss_D: 0.29888617992401123, Loss_G: 3.4357385635375977\n",
            "Epoch [17/30], Loss_D: 0.37869203090667725, Loss_G: 3.6540353298187256\n",
            "Epoch [18/30], Loss_D: 0.6527754068374634, Loss_G: 2.1329541206359863\n",
            "Epoch [19/30], Loss_D: 0.6863670349121094, Loss_G: 1.7760576009750366\n",
            "Epoch [20/30], Loss_D: 0.7104589939117432, Loss_G: 1.7577404975891113\n",
            "Epoch [21/30], Loss_D: 0.3862828016281128, Loss_G: 3.6200671195983887\n",
            "Epoch [22/30], Loss_D: 0.8136345148086548, Loss_G: 1.8752368688583374\n",
            "Epoch [23/30], Loss_D: 0.654362142086029, Loss_G: 2.1484086513519287\n",
            "Epoch [24/30], Loss_D: 0.8157083988189697, Loss_G: 2.051198720932007\n",
            "Epoch [25/30], Loss_D: 0.8528783321380615, Loss_G: 2.804643154144287\n",
            "Epoch [26/30], Loss_D: 0.4701422452926636, Loss_G: 2.597346305847168\n",
            "Epoch [27/30], Loss_D: 0.8186428546905518, Loss_G: 1.9858720302581787\n",
            "Epoch [28/30], Loss_D: 0.6107715368270874, Loss_G: 2.908769369125366\n",
            "Epoch [29/30], Loss_D: 1.070786476135254, Loss_G: 2.2791481018066406\n",
            "Epoch [30/30], Loss_D: 0.5224702954292297, Loss_G: 2.4844045639038086\n"
          ]
        }
      ]
    },
    {
      "cell_type": "code",
      "source": [
        "# Generate sample images\n",
        "num_samples = 10\n",
        "with torch.no_grad():\n",
        "    noise = torch.randn(num_samples, latent_dim).to(device)\n",
        "    generated_images = generator(noise).view(-1, 1, 28, 28).cpu()\n",
        "\n",
        "import matplotlib.pyplot as plt\n",
        "import numpy as np\n",
        "\n",
        "# Function to display images\n",
        "def imshow(img):\n",
        "    img = img / 2 + 0.5     # Unnormalize\n",
        "    npimg = img.numpy()\n",
        "    plt.imshow(np.transpose(npimg, (1, 2, 0)), cmap='gray')\n",
        "    plt.axis('off')\n",
        "    plt.show()\n",
        "\n",
        "# Display generated images\n",
        "imshow(torchvision.utils.make_grid(generated_images, nrow=5))"
      ],
      "metadata": {
        "colab": {
          "base_uri": "https://localhost:8080/",
          "height": 239
        },
        "id": "D5td0j5QZinv",
        "outputId": "5ca0cd30-9a4c-4475-aa94-4bc8a5c89a92"
      },
      "execution_count": null,
      "outputs": [
        {
          "output_type": "display_data",
          "data": {
            "text/plain": [
              "<Figure size 640x480 with 1 Axes>"
            ],
            "image/png": "[encoded data removed]"
          },
          "metadata": {}
        }
      ]
    },
    {
      "cell_type": "code",
      "source": [
        "from torchvision.utils import make_grid\n",
        "\n",
        "def show_images(dataset, num_images=12):\n",
        "    plt.figure(figsize=(10, 5))\n",
        "    data_loader = torch.utils.data.DataLoader(dataset,\n",
        "                  batch_size=num_images, shuffle=True)\n",
        "\n",
        "    images, labels = next(iter(data_loader))\n",
        "    grid = make_grid(images, nrow=6, normalize=True)\n",
        "    plt.imshow(np.transpose(grid, (1, 2, 0)))\n",
        "    plt.axis('off')\n",
        "    plt.show()\n",
        "\n",
        "# Display original images\n",
        "show_images(fashion_mnist_dataset)"
      ],
      "metadata": {
        "colab": {
          "base_uri": "https://localhost:8080/",
          "height": 301
        },
        "id": "-1xiKVpuZik7",
        "outputId": "047c868b-f9f1-4b62-f448-66540928b977"
      },
      "execution_count": null,
      "outputs": [
        {
          "output_type": "display_data",
          "data": {
            "text/plain": [
              "<Figure size 1000x500 with 1 Axes>"
            ],
            "image/png": "[encoded data removed]"
          },
          "metadata": {}
        }
      ]
    },
    {
      "cell_type": "code",
      "source": [
        "import torch\n",
        "\n",
        "x = torch.randn(3,2)\n",
        "print(x)"
      ],
      "metadata": {
        "id": "90qci62KZif9",
        "colab": {
          "base_uri": "https://localhost:8080/"
        },
        "outputId": "f8142514-7334-4910-9bec-37fb0c0da531"
      },
      "execution_count": null,
      "outputs": [
        {
          "output_type": "stream",
          "name": "stdout",
          "text": [
            "tensor([[-1.4227, -0.1958],\n",
            "        [ 1.6035,  0.1098],\n",
            "        [-0.8174, -0.0432]])\n"
          ]
        }
      ]
    },
    {
      "cell_type": "code",
      "source": [],
      "metadata": {
        "id": "KeIupUZwZidE"
      },
      "execution_count": null,
      "outputs": []
    },
    {
      "cell_type": "code",
      "source": [],
      "metadata": {
        "id": "HtiZnfJXMzWz"
      },
      "execution_count": null,
      "outputs": []
    }
  ]
}